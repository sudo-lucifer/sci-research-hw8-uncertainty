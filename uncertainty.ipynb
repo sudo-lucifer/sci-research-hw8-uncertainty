{
 "cells": [
  {
   "cell_type": "markdown",
   "metadata": {},
   "source": [
    "## ICCS 309: Homework 8"
   ]
  },
  {
   "cell_type": "code",
   "execution_count": 7,
   "metadata": {},
   "outputs": [],
   "source": [
    "import numpy as np\n",
    "import matplotlib.pyplot as plt"
   ]
  },
  {
   "cell_type": "markdown",
   "metadata": {},
   "source": [
    "### 1. Rectangle area"
   ]
  },
  {
   "cell_type": "code",
   "execution_count": 13,
   "metadata": {},
   "outputs": [
    {
     "name": "stdout",
     "output_type": "stream",
     "text": [
      "mean of x = 2.002\tstd-dev of x = 0.1005\n",
      "mean of y = 3.998\tstd-dev of y = 0.1991\n",
      "mean of area = 8.003\tstd-dev of area = 0.5681\n"
     ]
    },
    {
     "data": {
      "image/png": "[encoded data removed]",
      "text/plain": [
       "<Figure size 432x288 with 1 Axes>"
      ]
     },
     "metadata": {
      "needs_background": "light"
     },
     "output_type": "display_data"
    }
   ],
   "source": [
    "x = np.random.normal(2, 0.1, size = 10_000)\n",
    "y = np.random.normal(4, 0.2, size = 10_000)\n",
    "rectangle_area = x * y\n",
    "area_uncertainty = np.std(rectangle_area, ddof=1)\n",
    "\n",
    "print(f\"mean of x = {np.mean(x):.4}\\tstd-dev of x = {np.std(x, ddof=1):.4}\")\n",
    "print(f\"mean of y = {np.mean(y):.4}\\tstd-dev of y = {np.std(y, ddof=1):.4}\")\n",
    "print(f\"mean of area = {np.mean(rectangle_area):.4}\\tstd-dev of area = {area_uncertainty:.4}\")\n",
    "plt.hist(x)\n",
    "plt.hist(y)\n",
    "plt.hist(rectangle_area)\n",
    "plt.show()"
   ]
  },
  {
   "cell_type": "markdown",
   "metadata": {},
   "source": [
    "### 2. Mass density of rectangle room"
   ]
  },
  {
   "cell_type": "code",
   "execution_count": 30,
   "metadata": {},
   "outputs": [
    {
     "name": "stdout",
     "output_type": "stream",
     "text": [
      "mean of L = 6.002\tstd-dev of L = 0.09858\n",
      "mean of H = 8.0\tstd-dev of B = 0.1009\n",
      "mean of H = 3.001\tstd-dev of H = 0.1007\n",
      "====================================================================\n",
      "mean of mass of air  = 180.8\tstd-dev of mass of air = 7.134\n"
     ]
    },
    {
     "data": {
      "image/png": "[encoded data removed]",
      "text/plain": [
       "<Figure size 432x288 with 1 Axes>"
      ]
     },
     "metadata": {
      "needs_background": "light"
     },
     "output_type": "display_data"
    }
   ],
   "source": [
    "L = np.random.normal(6, 0.1, size = 10_000)\n",
    "B = np.random.normal(8, 0.1, size = 10_000)\n",
    "H = np.random.normal(3,0.1, size = 10_000)\n",
    "\n",
    "mass_of_air = 1.255 * (L * B * H)\n",
    "\n",
    "print(f\"mean of L = {np.mean(L):.4}\\tstd-dev of L = {np.std(L, ddof=1):.4}\")\n",
    "print(f\"mean of H = {np.mean(B):.4}\\tstd-dev of B = {np.std(B, ddof=1):.4}\")\n",
    "print(f\"mean of H = {np.mean(H):.4}\\tstd-dev of H = {np.std(H, ddof=1):.4}\")\n",
    "print(\"====================================================================\")\n",
    "print(f\"mean of mass of air  = {np.mean(mass_of_air):.4}\\tstd-dev of mass of air = {np.std(mass_of_air, ddof=1):.4}\")\n",
    "\n",
    "plt.hist(L)\n",
    "plt.hist(B)\n",
    "plt.hist(H)\n",
    "plt.show()\n"
   ]
  },
  {
   "cell_type": "code",
   "execution_count": null,
   "metadata": {},
   "outputs": [],
   "source": []
  }
 ],
 "metadata": {
  "interpreter": {
   "hash": "b0fa6594d8f4cbf19f97940f81e996739fb7646882a419484c72d19e05852a7e"
  },
  "kernelspec": {
   "display_name": "Python 3.9.8 64-bit",
   "language": "python",
   "name": "python3"
  },
  "language_info": {
   "codemirror_mode": {
    "name": "ipython",
    "version": 3
   },
   "file_extension": ".py",
   "mimetype": "text/x-python",
   "name": "python",
   "nbconvert_exporter": "python",
   "pygments_lexer": "ipython3",
   "version": "3.9.8"
  },
  "orig_nbformat": 4
 },
 "nbformat": 4,
 "nbformat_minor": 2
}
